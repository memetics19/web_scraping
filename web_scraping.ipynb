{
  "nbformat": 4,
  "nbformat_minor": 0,
  "metadata": {
    "colab": {
      "name": "web_scraping.ipynb",
      "provenance": [],
      "authorship_tag": "ABX9TyM6ID6PToHfyLBSaPSUhPED",
      "include_colab_link": true
    },
    "kernelspec": {
      "name": "python3",
      "display_name": "Python 3"
    }
  },
  "cells": [
    {
      "cell_type": "markdown",
      "metadata": {
        "id": "view-in-github",
        "colab_type": "text"
      },
      "source": [
        "<a href=\"https://colab.research.google.com/github/memetics19/web_scraping/blob/master/web_scraping.ipynb\" target=\"_parent\"><img src=\"https://colab.research.google.com/assets/colab-badge.svg\" alt=\"Open In Colab\"/></a>"
      ]
    },
    {
      "cell_type": "code",
      "metadata": {
        "id": "y0Nn5yvWlfEU",
        "colab_type": "code",
        "colab": {
          "base_uri": "https://localhost:8080/",
          "height": 67
        },
        "outputId": "e01c35de-4921-4480-8fc3-17cff54ceb16"
      },
      "source": [
        "\n",
        "import requests \n",
        "from bs4 import BeautifulSoup\n",
        "from newspaper import Article\n",
        "import pandas as pd\n",
        "import numpy as np \n",
        "import nltk\n",
        "nltk.download('punkt')"
      ],
      "execution_count": 130,
      "outputs": [
        {
          "output_type": "stream",
          "text": [
            "[nltk_data] Downloading package punkt to /root/nltk_data...\n",
            "[nltk_data]   Package punkt is already up-to-date!\n"
          ],
          "name": "stdout"
        },
        {
          "output_type": "execute_result",
          "data": {
            "text/plain": [
              "True"
            ]
          },
          "metadata": {
            "tags": []
          },
          "execution_count": 130
        }
      ]
    },
    {
      "cell_type": "code",
      "metadata": {
        "id": "njlSf7IYm6mM",
        "colab_type": "code",
        "colab": {}
      },
      "source": [
        "url=\"https://timesofindia.indiatimes.com/world/south-asia\""
      ],
      "execution_count": 0,
      "outputs": []
    },
    {
      "cell_type": "code",
      "metadata": {
        "id": "OdCYynqhnCF1",
        "colab_type": "code",
        "colab": {}
      },
      "source": [
        "requests=requests.get(url)"
      ],
      "execution_count": 0,
      "outputs": []
    },
    {
      "cell_type": "code",
      "metadata": {
        "id": "8xhcyp4PnkSc",
        "colab_type": "code",
        "colab": {}
      },
      "source": [
        "soup=BeautifulSoup(requests.content,\"html5lib\")\n",
        "table = soup.findAll('a', attrs = {'class':'w_img'})"
      ],
      "execution_count": 0,
      "outputs": []
    },
    {
      "cell_type": "code",
      "metadata": {
        "id": "4crHw_0xoPXu",
        "colab_type": "code",
        "colab": {}
      },
      "source": [
        " news=[]\n",
        "for row in table: \n",
        "    if not row['href'].startswith('http'):\n",
        "        news.append('https://timesofindia.indiatimes.com'+row['href'])"
      ],
      "execution_count": 0,
      "outputs": []
    },
    {
      "cell_type": "markdown",
      "metadata": {
        "id": "9SydEn7gs7sb",
        "colab_type": "text"
      },
      "source": [
        ""
      ]
    },
    {
      "cell_type": "code",
      "metadata": {
        "id": "mbSRi16kqgsL",
        "colab_type": "code",
        "colab": {}
      },
      "source": [
        "df=[]\n",
        "for i in news:\n",
        "    article = Article(i, language=\"en\")\n",
        "    article.download() \n",
        "    article.parse() \n",
        "    article.nlp() \n",
        "    data={}\n",
        "    data['Title']=article.title\n",
        "    data['Text']=article.text\n",
        "    data['Summary']=article.summary\n",
        "    data['Keywords']=article.keywords\n",
        "    df.append(data)"
      ],
      "execution_count": 0,
      "outputs": []
    },
    {
      "cell_type": "code",
      "metadata": {
        "id": "etAzd6PUu4uV",
        "colab_type": "code",
        "colab": {
          "base_uri": "https://localhost:8080/",
          "height": 279
        },
        "outputId": "dc4a233f-9a62-44d8-c6e6-6ab48bf7c90a"
      },
      "source": [
        "dataset=pd.DataFrame(df)\n",
        "dataset.head()"
      ],
      "execution_count": 136,
      "outputs": [
        {
          "output_type": "execute_result",
          "data": {
            "text/html": [
              "<div>\n",
              "<style scoped>\n",
              "    .dataframe tbody tr th:only-of-type {\n",
              "        vertical-align: middle;\n",
              "    }\n",
              "\n",
              "    .dataframe tbody tr th {\n",
              "        vertical-align: top;\n",
              "    }\n",
              "\n",
              "    .dataframe thead th {\n",
              "        text-align: right;\n",
              "    }\n",
              "</style>\n",
              "<table border=\"1\" class=\"dataframe\">\n",
              "  <thead>\n",
              "    <tr style=\"text-align: right;\">\n",
              "      <th></th>\n",
              "      <th>Title</th>\n",
              "      <th>Text</th>\n",
              "      <th>Summary</th>\n",
              "      <th>Keywords</th>\n",
              "    </tr>\n",
              "  </thead>\n",
              "  <tbody>\n",
              "    <tr>\n",
              "      <th>0</th>\n",
              "      <td>sri lanka coronavirus: Covid-19: Sri Lanka ext...</td>\n",
              "      <td>Download The Times of India News App for Lates...</td>\n",
              "      <td>Download The Times of India News App for Lates...</td>\n",
              "      <td>[high, deadly, till, times, districts, coronav...</td>\n",
              "    </tr>\n",
              "    <tr>\n",
              "      <th>1</th>\n",
              "      <td>Covid-19: PM Narendra Modi addresses the natio...</td>\n",
              "      <td>01:58\\n\\nBodies of NRIs, OCIs to be accepted a...</td>\n",
              "      <td>01:58Bodies of NRIs, OCIs to be accepted after...</td>\n",
              "      <td>[accepted, testing, 0158bodies, narendra, ki, ...</td>\n",
              "    </tr>\n",
              "    <tr>\n",
              "      <th>2</th>\n",
              "      <td>Coronavirus lockdown: Bat enters Amitabh Bachc...</td>\n",
              "      <td>Ever since the novel coronavirus pandemic star...</td>\n",
              "      <td>Ever since the novel coronavirus pandemic star...</td>\n",
              "      <td>[entered, enters, रह, shares, lockdown, ह, sta...</td>\n",
              "    </tr>\n",
              "    <tr>\n",
              "      <th>3</th>\n",
              "      <td>Sara Ali Khan shares post workout photo with b...</td>\n",
              "      <td>After entertaining fans with their 'Knock Knoc...</td>\n",
              "      <td>After entertaining fans with their 'Knock Knoc...</td>\n",
              "      <td>[fans, work, knock, user, khan, shares, post, ...</td>\n",
              "    </tr>\n",
              "    <tr>\n",
              "      <th>4</th>\n",
              "      <td>Madhya Pradesh: Traffic cop schooling lockdown...</td>\n",
              "      <td>01:58\\n\\nBodies of NRIs, OCIs to be accepted a...</td>\n",
              "      <td>01:58Bodies of NRIs, OCIs to be accepted after...</td>\n",
              "      <td>[accepted, cop, testing, 0158bodies, schooling...</td>\n",
              "    </tr>\n",
              "  </tbody>\n",
              "</table>\n",
              "</div>"
            ],
            "text/plain": [
              "                                               Title  ...                                           Keywords\n",
              "0  sri lanka coronavirus: Covid-19: Sri Lanka ext...  ...  [high, deadly, till, times, districts, coronav...\n",
              "1  Covid-19: PM Narendra Modi addresses the natio...  ...  [accepted, testing, 0158bodies, narendra, ki, ...\n",
              "2  Coronavirus lockdown: Bat enters Amitabh Bachc...  ...  [entered, enters, रह, shares, lockdown, ह, sta...\n",
              "3  Sara Ali Khan shares post workout photo with b...  ...  [fans, work, knock, user, khan, shares, post, ...\n",
              "4  Madhya Pradesh: Traffic cop schooling lockdown...  ...  [accepted, cop, testing, 0158bodies, schooling...\n",
              "\n",
              "[5 rows x 4 columns]"
            ]
          },
          "metadata": {
            "tags": []
          },
          "execution_count": 136
        }
      ]
    }
  ]
}